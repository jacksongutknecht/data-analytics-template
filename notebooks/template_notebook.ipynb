# Import libraries
import pandas as pd
import numpy as np
import matplotlib.pyplot as plt

# Load dataset
data = pd.read_csv('data/raw/example.csv')

# Display first few rows
data.head()
